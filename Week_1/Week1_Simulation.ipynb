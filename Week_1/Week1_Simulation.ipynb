{
 "cells": [
  {
   "cell_type": "code",
   "execution_count": 1,
   "id": "85088b1a-5d1a-4887-96ad-25bc1db67e5d",
   "metadata": {},
   "outputs": [
    {
     "name": "stdout",
     "output_type": "stream",
     "text": [
      "Collecting simpy\n",
      "  Downloading simpy-4.1.1-py3-none-any.whl.metadata (6.1 kB)\n",
      "Downloading simpy-4.1.1-py3-none-any.whl (27 kB)\n",
      "Installing collected packages: simpy\n",
      "Successfully installed simpy-4.1.1\n"
     ]
    }
   ],
   "source": [
    "#Install SimPy\n",
    "!pip install simpy\n"
   ]
  },
  {
   "cell_type": "code",
   "execution_count": 2,
   "id": "f7eb164d-d5ed-4bb5-80c5-9cff2a348985",
   "metadata": {},
   "outputs": [],
   "source": [
    "#Import\n",
    "import simpy\n"
   ]
  },
  {
   "cell_type": "code",
   "execution_count": 5,
   "id": "beccf750-257c-497e-96a8-e19c2c2ea605",
   "metadata": {},
   "outputs": [],
   "source": [
    "#Define what is in a theater\n",
    "class Theater:\n",
    "    def __init__(self, env, num_cashiers, num_servers, num_ushers):\n",
    "        self.env = env\n",
    "        self.cashier = simpy.Resource(env, num_cashiers)\n",
    "        self.server = simpy.Resource(env, num_servers)\n",
    "        self.usher = simpy.Resource(env, num_ushers)\n"
   ]
  },
  {
   "cell_type": "code",
   "execution_count": 23,
   "id": "f0935e46-e348-4242-bfd6-49433bc1ec83",
   "metadata": {},
   "outputs": [],
   "source": [
    "#Define function to simulate interactions in a movie theater\n",
    "def go_to_movies(env, moviegoer, theater):\n",
    "    start_time = env.now\n",
    "    \n",
    "    with theater.cashier.request() as request:\n",
    "        yield request\n",
    "        yield env.timeout(1)  #Maybe parameterize so I  can tinker with it\n",
    "    \n",
    "    with theater.server.request() as request:\n",
    "        yield request\n",
    "        yield env.timeout(1)  #TBD\n",
    "    \n",
    "    with theater.usher.request() as request:\n",
    "        yield request\n",
    "        yield env.timeout(1)  #TBD\n",
    "    \n",
    "    total_wait_time = env.now - start_time\n",
    "    print(f\"Moviegoer {moviegoer} total wait time: {total_wait_time} minutes\") #Provide a way to see changes in experience\n"
   ]
  },
  {
   "cell_type": "code",
   "execution_count": 33,
   "id": "d002ed2e-42b8-4e95-a0b7-28563d51eb21",
   "metadata": {},
   "outputs": [],
   "source": [
    "#Wrap prior functions\n",
    "def run_theater(env, num_cashiers, num_servers, num_ushers):\n",
    "    theater = Theater(env, num_cashiers, num_servers, num_ushers)\n",
    "    for moviegoer in range(20):\n",
    "        env.process(go_to_movies(env, moviegoer, theater))\n",
    "    yield env.timeout(90)  #Max Sim time\n"
   ]
  },
  {
   "cell_type": "code",
   "execution_count": 11,
   "id": "322dc318-aa35-40b5-8cc1-4ba95e2529ef",
   "metadata": {},
   "outputs": [],
   "source": [
    "def calculate_wait_time(num_cashiers, num_servers, num_ushers):\n",
    "    env = simpy.Environment()\n",
    "    env.process(run_theater(env, num_cashiers, num_servers, num_ushers))\n",
    "    env.run()\n"
   ]
  },
  {
   "cell_type": "code",
   "execution_count": 45,
   "id": "e479206f-2650-4ef7-ab18-e89bb07e6c11",
   "metadata": {},
   "outputs": [
    {
     "name": "stdout",
     "output_type": "stream",
     "text": [
      "Moviegoer 0 total wait time: 3 minutes\n",
      "Moviegoer 1 total wait time: 3 minutes\n",
      "Moviegoer 2 total wait time: 4 minutes\n",
      "Moviegoer 3 total wait time: 4 minutes\n",
      "Moviegoer 4 total wait time: 5 minutes\n",
      "Moviegoer 5 total wait time: 5 minutes\n",
      "Moviegoer 6 total wait time: 6 minutes\n",
      "Moviegoer 7 total wait time: 6 minutes\n",
      "Moviegoer 8 total wait time: 7 minutes\n",
      "Moviegoer 9 total wait time: 7 minutes\n",
      "Moviegoer 10 total wait time: 8 minutes\n",
      "Moviegoer 11 total wait time: 8 minutes\n",
      "Moviegoer 12 total wait time: 9 minutes\n",
      "Moviegoer 13 total wait time: 9 minutes\n",
      "Moviegoer 14 total wait time: 10 minutes\n",
      "Moviegoer 15 total wait time: 10 minutes\n",
      "Moviegoer 16 total wait time: 11 minutes\n",
      "Moviegoer 17 total wait time: 11 minutes\n",
      "Moviegoer 18 total wait time: 12 minutes\n",
      "Moviegoer 19 total wait time: 12 minutes\n"
     ]
    }
   ],
   "source": [
    "#Init\n",
    "num_cashiers = 2\n",
    "num_servers = 5\n",
    "num_ushers = 5\n",
    "\n",
    "#Run\n",
    "calculate_wait_time(num_cashiers, num_servers, num_ushers)\n",
    "\n"
   ]
  }
 ],
 "metadata": {
  "kernelspec": {
   "display_name": "Python 3 (ipykernel)",
   "language": "python",
   "name": "python3"
  },
  "language_info": {
   "codemirror_mode": {
    "name": "ipython",
    "version": 3
   },
   "file_extension": ".py",
   "mimetype": "text/x-python",
   "name": "python",
   "nbconvert_exporter": "python",
   "pygments_lexer": "ipython3",
   "version": "3.12.4"
  }
 },
 "nbformat": 4,
 "nbformat_minor": 5
}
